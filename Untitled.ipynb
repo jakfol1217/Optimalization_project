{
 "cells": [
  {
   "cell_type": "code",
   "execution_count": 1,
   "id": "472affb4",
   "metadata": {
    "ExecuteTime": {
     "end_time": "2023-06-13T08:28:02.214020800Z",
     "start_time": "2023-06-13T08:27:51.260089700Z"
    }
   },
   "outputs": [],
   "source": [
    "from sklearn.datasets import load_svmlight_file\n",
    "from scipy.sparse import csc_matrix\n",
    "import numpy as np\n",
    "from Algorithm import CoordinateDescent"
   ]
  },
  {
   "cell_type": "code",
   "execution_count": 2,
   "id": "60fac108",
   "metadata": {},
   "outputs": [],
   "source": [
    "X_train, y_train = load_svmlight_file(\"data/rcv1_train.binary\")"
   ]
  },
  {
   "cell_type": "code",
   "execution_count": 3,
   "id": "107b372f",
   "metadata": {},
   "outputs": [],
   "source": [
    "X_train = csc_matrix(X_train)"
   ]
  },
  {
   "cell_type": "code",
   "execution_count": 4,
   "id": "57c562c3",
   "metadata": {},
   "outputs": [
    {
     "name": "stdout",
     "output_type": "stream",
     "text": [
      "2023-06-12T21:00:54.665493 0 20242.0\n",
      "2023-06-12T21:04:01.251195 1 728.0645243857208\n",
      "2023-06-12T21:07:18.189861 2 758.1292505994152\n",
      "2023-06-12T21:10:32.713623 3 612.0639476185838\n",
      "2023-06-12T21:13:44.580880 4 599.4775907609926\n",
      "2023-06-12T21:16:58.781357 5 589.171114921943\n",
      "2023-06-12T21:20:13.065183 6 588.0596584316478\n",
      "2023-06-12T21:23:25.665744 7 584.5249959068337\n",
      "2023-06-12T21:26:38.832688 8 584.2097136928863\n",
      "2023-06-12T21:29:53.213671 9 583.3900005198487\n",
      "2023-06-12T21:33:06.407988 10 583.0155375208578\n",
      "2023-06-12T21:36:20.178784 11 582.6419915492356\n",
      "2023-06-12T21:39:34.179719 12 582.519096834177\n",
      "2023-06-12T21:42:48.100363 13 582.121376953983\n",
      "2023-06-12T21:46:02.018516 14 582.0185038492718\n",
      "2023-06-12T21:49:16.492075 15 581.9357730401446\n",
      "2023-06-12T21:52:31.281680 16 581.8469929481539\n",
      "2023-06-12T21:55:50.239617 17 581.7781216265732\n",
      "2023-06-12T21:59:13.627676 18 581.7459350854983\n",
      "2023-06-12T22:02:37.931087 19 581.7250302913664\n",
      "2023-06-12T22:06:01.748413 20 581.6830372075522\n",
      "2023-06-12T22:09:25.245103 21 581.6711179791532\n",
      "2023-06-12T22:12:48.165682 22 581.6374439549465\n",
      "2023-06-12T22:16:13.052525 23 581.6336291570474\n",
      "2023-06-12T22:19:37.031491 24 581.6237060297343\n",
      "2023-06-12T22:23:02.066737 25 581.6138091008598\n",
      "2023-06-12T22:26:27.819619 26 581.6076851190585\n",
      "2023-06-12T22:29:55.365915 27 581.6104173414213\n",
      "2023-06-12T22:33:19.525415 28 581.6060418672741\n"
     ]
    }
   ],
   "source": [
    "cd = CoordinateDescent(C=1., eps=1e-3)\n",
    "\n",
    "w = cd.fit_process(X_train, y_train)"
   ]
  },
  {
   "cell_type": "code",
   "execution_count": 5,
   "id": "b798e90b",
   "metadata": {},
   "outputs": [],
   "source": [
    "np.savetxt(\"rcv1_whistory\", np.array(cd.w_history))"
   ]
  },
  {
   "cell_type": "code",
   "execution_count": 6,
   "id": "fa65bf78",
   "metadata": {},
   "outputs": [],
   "source": [
    "X_train, y_train = load_svmlight_file(\"data/news20_train\")"
   ]
  },
  {
   "cell_type": "code",
   "execution_count": 7,
   "id": "b820aead",
   "metadata": {},
   "outputs": [],
   "source": [
    "X_train = csc_matrix(X_train)"
   ]
  },
  {
   "cell_type": "code",
   "execution_count": 8,
   "id": "3496f70f",
   "metadata": {},
   "outputs": [
    {
     "name": "stdout",
     "output_type": "stream",
     "text": [
      "2023-06-12T22:41:35.477558 0 13397.0\n",
      "2023-06-13T03:41:30.836455 1 162.84457340405544\n",
      "2023-06-13T08:41:54.623116 2 616.6411324179337\n"
     ]
    },
    {
     "ename": "KeyboardInterrupt",
     "evalue": "",
     "output_type": "error",
     "traceback": [
      "\u001B[0;31m---------------------------------------------------------------------------\u001B[0m",
      "\u001B[0;31mKeyboardInterrupt\u001B[0m                         Traceback (most recent call last)",
      "Cell \u001B[0;32mIn[8], line 3\u001B[0m\n\u001B[1;32m      1\u001B[0m cd2 \u001B[38;5;241m=\u001B[39m CoordinateDescent(C\u001B[38;5;241m=\u001B[39m\u001B[38;5;241m1.\u001B[39m, eps\u001B[38;5;241m=\u001B[39m\u001B[38;5;241m1e-3\u001B[39m)\n\u001B[0;32m----> 3\u001B[0m w2 \u001B[38;5;241m=\u001B[39m \u001B[43mcd2\u001B[49m\u001B[38;5;241;43m.\u001B[39;49m\u001B[43mfit_process\u001B[49m\u001B[43m(\u001B[49m\u001B[43mX_train\u001B[49m\u001B[43m,\u001B[49m\u001B[43m \u001B[49m\u001B[43my_train\u001B[49m\u001B[43m)\u001B[49m\n",
      "File \u001B[0;32m~/Optimization_project/Algorithm.py:66\u001B[0m, in \u001B[0;36mCoordinateDescent.fit_process\u001B[0;34m(self, x, y, clear)\u001B[0m\n\u001B[1;32m     64\u001B[0m \u001B[38;5;28;01mdef\u001B[39;00m \u001B[38;5;21mfit_process\u001B[39m(\u001B[38;5;28mself\u001B[39m, x, y, clear \u001B[38;5;241m=\u001B[39m \u001B[38;5;28;01mFalse\u001B[39;00m):\n\u001B[1;32m     65\u001B[0m     \u001B[38;5;28mself\u001B[39m\u001B[38;5;241m.\u001B[39mfit(x, y)\n\u001B[0;32m---> 66\u001B[0m     w \u001B[38;5;241m=\u001B[39m \u001B[38;5;28;43mself\u001B[39;49m\u001B[38;5;241;43m.\u001B[39;49m\u001B[43mprocess\u001B[49m\u001B[43m(\u001B[49m\u001B[43m)\u001B[49m\n\u001B[1;32m     67\u001B[0m     \u001B[38;5;28;01mif\u001B[39;00m clear:\n\u001B[1;32m     68\u001B[0m         \u001B[38;5;28mself\u001B[39m\u001B[38;5;241m.\u001B[39mclear()\n",
      "File \u001B[0;32m~/Optimization_project/Algorithm.py:55\u001B[0m, in \u001B[0;36mCoordinateDescent.process\u001B[0;34m(self, clear)\u001B[0m\n\u001B[1;32m     53\u001B[0m \u001B[38;5;66;03m#idx = np.random.choice(len(w))\u001B[39;00m\n\u001B[1;32m     54\u001B[0m \u001B[38;5;28;01mfor\u001B[39;00m i \u001B[38;5;129;01min\u001B[39;00m idx:\n\u001B[0;32m---> 55\u001B[0m     z \u001B[38;5;241m=\u001B[39m \u001B[38;5;28;43mself\u001B[39;49m\u001B[38;5;241;43m.\u001B[39;49m\u001B[43m_sub_problem\u001B[49m\u001B[43m(\u001B[49m\u001B[43mw\u001B[49m\u001B[43m,\u001B[49m\u001B[43m \u001B[49m\u001B[43mi\u001B[49m\u001B[43m)\u001B[49m\n\u001B[1;32m     56\u001B[0m     w[i] \u001B[38;5;241m+\u001B[39m\u001B[38;5;241m=\u001B[39m z\n\u001B[1;32m     57\u001B[0m \u001B[38;5;28mself\u001B[39m\u001B[38;5;241m.\u001B[39mw_history\u001B[38;5;241m.\u001B[39mappend(w\u001B[38;5;241m.\u001B[39mcopy())\n",
      "File \u001B[0;32m~/Optimization_project/Algorithm.py:80\u001B[0m, in \u001B[0;36mCoordinateDescent._sub_problem\u001B[0;34m(self, w, i)\u001B[0m\n\u001B[1;32m     78\u001B[0m bjs, idx \u001B[38;5;241m=\u001B[39m \u001B[38;5;28mself\u001B[39m\u001B[38;5;241m.\u001B[39m_indi_b(w)\n\u001B[1;32m     79\u001B[0m D_hat_hat \u001B[38;5;241m=\u001B[39m \u001B[38;5;28mself\u001B[39m\u001B[38;5;241m.\u001B[39m_D_hat_hat(w, \u001B[38;5;241m0\u001B[39m, i, idx, bjs)\n\u001B[0;32m---> 80\u001B[0m D_hat \u001B[38;5;241m=\u001B[39m \u001B[38;5;28;43mself\u001B[39;49m\u001B[38;5;241;43m.\u001B[39;49m\u001B[43m_D_hat\u001B[49m\u001B[43m(\u001B[49m\u001B[43mw\u001B[49m\u001B[43m,\u001B[49m\u001B[43m \u001B[49m\u001B[38;5;241;43m0\u001B[39;49m\u001B[43m,\u001B[49m\u001B[43m \u001B[49m\u001B[43mi\u001B[49m\u001B[43m,\u001B[49m\u001B[43m \u001B[49m\u001B[43midx\u001B[49m\u001B[43m,\u001B[49m\u001B[43m \u001B[49m\u001B[43mbjs\u001B[49m\u001B[43m)\u001B[49m\n\u001B[1;32m     81\u001B[0m \u001B[38;5;28mself\u001B[39m\u001B[38;5;241m.\u001B[39mD \u001B[38;5;241m=\u001B[39m np\u001B[38;5;241m.\u001B[39mappend(\u001B[38;5;28mself\u001B[39m\u001B[38;5;241m.\u001B[39mD, D_hat)\n\u001B[1;32m     82\u001B[0m d \u001B[38;5;241m=\u001B[39m \u001B[38;5;241m-\u001B[39mD_hat\u001B[38;5;241m/\u001B[39mD_hat_hat\n",
      "File \u001B[0;32m~/Optimization_project/Algorithm.py:111\u001B[0m, in \u001B[0;36mCoordinateDescent._D_hat\u001B[0;34m(self, w, z, i, idx, bjs)\u001B[0m\n\u001B[1;32m    110\u001B[0m \u001B[38;5;28;01mdef\u001B[39;00m \u001B[38;5;21m_D_hat\u001B[39m(\u001B[38;5;28mself\u001B[39m, w, z, i, idx, bjs):\n\u001B[0;32m--> 111\u001B[0m     wz \u001B[38;5;241m=\u001B[39m \u001B[43mcopy\u001B[49m\u001B[38;5;241;43m.\u001B[39;49m\u001B[43mdeepcopy\u001B[49m\u001B[43m(\u001B[49m\u001B[43mw\u001B[49m\u001B[43m)\u001B[49m\n\u001B[1;32m    112\u001B[0m     wz[i] \u001B[38;5;241m+\u001B[39m\u001B[38;5;241m=\u001B[39m z\n\u001B[1;32m    113\u001B[0m     res \u001B[38;5;241m=\u001B[39m wz[i]\n",
      "File \u001B[0;32m~/miniconda3/lib/python3.10/copy.py:153\u001B[0m, in \u001B[0;36mdeepcopy\u001B[0;34m(x, memo, _nil)\u001B[0m\n\u001B[1;32m    151\u001B[0m copier \u001B[38;5;241m=\u001B[39m \u001B[38;5;28mgetattr\u001B[39m(x, \u001B[38;5;124m\"\u001B[39m\u001B[38;5;124m__deepcopy__\u001B[39m\u001B[38;5;124m\"\u001B[39m, \u001B[38;5;28;01mNone\u001B[39;00m)\n\u001B[1;32m    152\u001B[0m \u001B[38;5;28;01mif\u001B[39;00m copier \u001B[38;5;129;01mis\u001B[39;00m \u001B[38;5;129;01mnot\u001B[39;00m \u001B[38;5;28;01mNone\u001B[39;00m:\n\u001B[0;32m--> 153\u001B[0m     y \u001B[38;5;241m=\u001B[39m \u001B[43mcopier\u001B[49m\u001B[43m(\u001B[49m\u001B[43mmemo\u001B[49m\u001B[43m)\u001B[49m\n\u001B[1;32m    154\u001B[0m \u001B[38;5;28;01melse\u001B[39;00m:\n\u001B[1;32m    155\u001B[0m     reductor \u001B[38;5;241m=\u001B[39m dispatch_table\u001B[38;5;241m.\u001B[39mget(\u001B[38;5;28mcls\u001B[39m)\n",
      "\u001B[0;31mKeyboardInterrupt\u001B[0m: "
     ]
    }
   ],
   "source": [
    "cd2 = CoordinateDescent(C=1., eps=1e-3)\n",
    "\n",
    "w2 = cd2.fit_process(X_train, y_train)"
   ]
  },
  {
   "cell_type": "code",
   "execution_count": null,
   "id": "da06ff09",
   "metadata": {},
   "outputs": [],
   "source": [
    "np.savetxt(\"news20_whistory\", np.array(cd2.w_history))"
   ]
  },
  {
   "cell_type": "code",
   "execution_count": null,
   "id": "b909bd68",
   "metadata": {},
   "outputs": [],
   "source": [
    "X_train, y_train = load_svmlight_file(\"data/real-sim_train\")"
   ]
  },
  {
   "cell_type": "code",
   "execution_count": null,
   "id": "360b1fd5",
   "metadata": {},
   "outputs": [],
   "source": [
    "X_train = csc_matrix(X_train)"
   ]
  },
  {
   "cell_type": "code",
   "execution_count": null,
   "id": "d607d85f",
   "metadata": {},
   "outputs": [],
   "source": [
    "cd3 = CoordinateDescent(C=1., eps=1e-3)\n",
    "\n",
    "w3 = cd3.fit_process(X_train, y_train)"
   ]
  },
  {
   "cell_type": "code",
   "execution_count": null,
   "id": "315a87c3",
   "metadata": {},
   "outputs": [],
   "source": [
    "np.savetxt(\"real-sim_whistory\", np.array(cd3.w_history))"
   ]
  },
  {
   "cell_type": "code",
   "execution_count": null,
   "id": "90e4f708",
   "metadata": {},
   "outputs": [],
   "source": []
  }
 ],
 "metadata": {
  "kernelspec": {
   "display_name": "Python 3 (ipykernel)",
   "language": "python",
   "name": "python3"
  },
  "language_info": {
   "codemirror_mode": {
    "name": "ipython",
    "version": 3
   },
   "file_extension": ".py",
   "mimetype": "text/x-python",
   "name": "python",
   "nbconvert_exporter": "python",
   "pygments_lexer": "ipython3",
   "version": "3.10.9"
  }
 },
 "nbformat": 4,
 "nbformat_minor": 5
}
