{
 "cells": [
  {
   "cell_type": "code",
   "execution_count": 6,
   "id": "472affb4",
   "metadata": {},
   "outputs": [],
   "source": [
    "from sklearn.datasets import load_svmlight_file\n",
    "from scipy.sparse import csc_matrix"
   ]
  },
  {
   "cell_type": "code",
   "execution_count": 61,
   "id": "cf4b73bd",
   "metadata": {},
   "outputs": [],
   "source": [
    "import copy\n",
    "\n",
    "import numpy as np\n",
    "import copy\n",
    "from SVM import loss_function\n",
    "from tqdm import tqdm\n",
    "\n",
    "# Algorithm is from\n",
    "# https://www.csie.ntu.edu.tw/~cjlin/papers/cdl2.pdf\n",
    "class CoordinateDescent:\n",
    "    def __init__(self, C, beta=0.5, ro=0.01, eps=1e-9, max_iter=500):\n",
    "        # C - regularization parameter\n",
    "        # beta, ro - algoritm parameters\n",
    "        self.C = C\n",
    "        self.beta = beta # in (0, 1)\n",
    "        self.ro = ro # in (0, 1/2)\n",
    "        self.eps = eps # solution accuracy (for stopping condition)\n",
    "        self.max_iter = max_iter\n",
    "        self.x = None\n",
    "        self.y = None\n",
    "        self.H = None\n",
    "        self.D = np.array([])\n",
    "\n",
    "\n",
    "    def fit(self, x, y):\n",
    "        # x - data\n",
    "        # y - responses\n",
    "        # to add bias just include a column of ones\n",
    "        self.x = x\n",
    "        self.y = y\n",
    "        from tqdm import tqdm\n",
    "        Hs = []\n",
    "        for i in tqdm(range(x.shape[1])):\n",
    "            Hs.append(self._H(i))\n",
    "        self.H = Hs\n",
    "\n",
    "    def process(self, clear = False):\n",
    "        if self.x is None or self.y is None or self.H is None:\n",
    "            raise Exception(\"Algorithm is not fitted yet\")\n",
    "        # weight initialization\n",
    "        w = np.zeros(self.x.shape[1])\n",
    "        # stop condition- max iteration or max(D'_i(0)) small enough or sum(D'_i(0)^2) small enough or validation error\n",
    "        iter = 0\n",
    "        stop = self.eps + 1\n",
    "        while iter < self.max_iter and stop >= self.eps:\n",
    "            print(iter)\n",
    "            self.D = np.array([])\n",
    "            idx = np.random.permutation(len(w))\n",
    "            for i in idx:\n",
    "                z = self._sub_problem(w, i)\n",
    "                w[i] += z\n",
    "            iter += 1\n",
    "            stop = sum(self.D**2)\n",
    "        if clear:\n",
    "            self.clear()\n",
    "        return w\n",
    "\n",
    "    def fit_process(self, x, y, clear = False):\n",
    "        self.fit(x, y)\n",
    "        w = self.process()\n",
    "        if clear:\n",
    "            self.clear()\n",
    "        return w\n",
    "\n",
    "    def clear(self):\n",
    "        self.H = None\n",
    "        self.x = None\n",
    "        self.y = None\n",
    "\n",
    "\n",
    "    def _sub_problem(self, w, i):\n",
    "        print(\"here 1\")\n",
    "        D_hat_hat = self._D_hat_hat(w, 0, i)\n",
    "        print(\"here 2\")\n",
    "        D_hat = self._D_hat(w, 0, i)\n",
    "        print(\"here 3\")\n",
    "        self.D = np.append(self.D, D_hat)\n",
    "        print(\"here 4\")\n",
    "        d = -D_hat/D_hat_hat\n",
    "        print(\"here 5\")\n",
    "        lam = 1\n",
    "        z = lam * d\n",
    "        iter = 0\n",
    "        for iter in tqdm(range(self.max_iter)):\n",
    "            if lam <= D_hat_hat/((self._H(i)/2) + self.ro):\n",
    "                break\n",
    "            if self._D(w, z, i) - self._D(w, 0, i) <= self.ro * z**2:\n",
    "                break\n",
    "            lam *= self.beta\n",
    "            z *= self.beta\n",
    "#             iter += 1\n",
    "        return z\n",
    "\n",
    "\n",
    "    def _b(self, w, j):\n",
    "        wtx = w[None] @ self.x[j, :].T\n",
    "        bj = 1 - self.multiply_elementwise(self.y[j], wtx)\n",
    "        return bj\n",
    "\n",
    "    def _D(self, w, z, i):\n",
    "        wz = copy.deepcopy(w)\n",
    "        wz[i] += z\n",
    "        res = 1/2 * wz.T @ wz\n",
    "        sm = 0\n",
    "        for j in range(len(self.y)):\n",
    "            if self._indi_b(wz, j):\n",
    "                sm += self._b(wz, j)**2\n",
    "        res += self.C * sm\n",
    "        return res\n",
    "\n",
    "\n",
    "    def _D_hat(self, w, z, i):\n",
    "        wz = copy.deepcopy(w)\n",
    "        wz[i] += z\n",
    "        res = wz[i]\n",
    "        sm = 0\n",
    "        for j in range(len(self.y)):\n",
    "            if self._indi_b(wz, j):\n",
    "                sm += self.y[j] * self.x[j,i] * self._b(wz, j)\n",
    "        res -= 2 * self.C * sm\n",
    "        return res\n",
    "\n",
    "    def _D_hat_hat(self, w, z, i):\n",
    "        wz = copy.deepcopy(w)\n",
    "        wz[i] += z\n",
    "        res = 1\n",
    "        sm = 0\n",
    "        for j in tqdm(range(len(self.y))):\n",
    "            if self._indi_b(wz, j):\n",
    "                sm += self.x[j, i]**2\n",
    "        res += 2 * self.C * sm\n",
    "        return res\n",
    "\n",
    "    def _indi_b(self, w, j):\n",
    "        return self._b(w, j) > 0\n",
    "\n",
    "    def _H(self, i):\n",
    "        if self.H is not None:\n",
    "            return self.H[i]\n",
    "        return 1 + 2 * self.C * np.sum(\n",
    "            self.multiply_elementwise(self.x[:,i], self.x[:,i])\n",
    "        )\n",
    "\n",
    "    def multiply_elementwise(self, x1, x2):\n",
    "        import scipy\n",
    "        if type(x1) == scipy.sparse._csr.csr_matrix or type(x1) == scipy.sparse._csc.csc_matrix:\n",
    "            return x1.multiply(x2)\n",
    "        else:\n",
    "            return x1 * x2\n"
   ]
  },
  {
   "cell_type": "code",
   "execution_count": 62,
   "id": "60fac108",
   "metadata": {},
   "outputs": [],
   "source": [
    "X, y = load_svmlight_file(\"data/rcv1_train.binary\")"
   ]
  },
  {
   "cell_type": "code",
   "execution_count": 63,
   "id": "107b372f",
   "metadata": {},
   "outputs": [],
   "source": [
    "X = csc_matrix(X)"
   ]
  },
  {
   "cell_type": "code",
   "execution_count": 64,
   "id": "18cbd5d9",
   "metadata": {},
   "outputs": [],
   "source": [
    "import numpy as np"
   ]
  },
  {
   "cell_type": "code",
   "execution_count": null,
   "id": "57c562c3",
   "metadata": {},
   "outputs": [
    {
     "name": "stderr",
     "output_type": "stream",
     "text": [
      "100%|███████████████████████████████████████████████████████████████████████████| 47236/47236 [00:10<00:00, 4672.75it/s]\n"
     ]
    },
    {
     "name": "stdout",
     "output_type": "stream",
     "text": [
      "0\n",
      "here 1\n"
     ]
    },
    {
     "name": "stderr",
     "output_type": "stream",
     "text": [
      "100%|████████████████████████████████████████████████████████████████████████████| 20242/20242 [00:51<00:00, 396.24it/s]\n"
     ]
    },
    {
     "name": "stdout",
     "output_type": "stream",
     "text": [
      "here 2\n",
      "here 3\n",
      "here 4\n",
      "here 5\n"
     ]
    },
    {
     "name": "stderr",
     "output_type": "stream",
     "text": [
      "  0%|                                                                                           | 0/500 [00:00<?, ?it/s]\n"
     ]
    },
    {
     "name": "stdout",
     "output_type": "stream",
     "text": [
      "here 1\n"
     ]
    },
    {
     "name": "stderr",
     "output_type": "stream",
     "text": [
      "100%|████████████████████████████████████████████████████████████████████████████| 20242/20242 [00:52<00:00, 388.84it/s]\n"
     ]
    },
    {
     "name": "stdout",
     "output_type": "stream",
     "text": [
      "here 2\n",
      "here 3\n",
      "here 4\n",
      "here 5\n"
     ]
    },
    {
     "name": "stderr",
     "output_type": "stream",
     "text": [
      "  0%|                                                                                           | 0/500 [00:00<?, ?it/s]\n"
     ]
    },
    {
     "name": "stdout",
     "output_type": "stream",
     "text": [
      "here 1\n"
     ]
    },
    {
     "name": "stderr",
     "output_type": "stream",
     "text": [
      "100%|████████████████████████████████████████████████████████████████████████████| 20242/20242 [00:51<00:00, 393.91it/s]\n"
     ]
    },
    {
     "name": "stdout",
     "output_type": "stream",
     "text": [
      "here 2\n"
     ]
    }
   ],
   "source": [
    "cd = CoordinateDescent(C=1)\n",
    "\n",
    "w = cd.fit_process(X, y)\n",
    "w"
   ]
  },
  {
   "cell_type": "code",
   "execution_count": 34,
   "id": "bea3a424",
   "metadata": {},
   "outputs": [
    {
     "data": {
      "text/plain": [
       "array([[0.]])"
      ]
     },
     "execution_count": 34,
     "metadata": {},
     "output_type": "execute_result"
    }
   ],
   "source": [
    "w = np.zeros(X.shape[1])\n",
    "w[None] @ X[1, :].T"
   ]
  },
  {
   "cell_type": "code",
   "execution_count": 41,
   "id": "ef8823ed",
   "metadata": {},
   "outputs": [
    {
     "data": {
      "text/plain": [
       "<1x47236 sparse matrix of type '<class 'numpy.float64'>'\n",
       "\twith 141 stored elements in COOrdinate format>"
      ]
     },
     "execution_count": 41,
     "metadata": {},
     "output_type": "execute_result"
    }
   ],
   "source": [
    "X[1, :].multiply(w[None])"
   ]
  },
  {
   "cell_type": "code",
   "execution_count": null,
   "id": "50eb588f",
   "metadata": {},
   "outputs": [],
   "source": []
  }
 ],
 "metadata": {
  "kernelspec": {
   "display_name": "Python 3 (ipykernel)",
   "language": "python",
   "name": "python3"
  },
  "language_info": {
   "codemirror_mode": {
    "name": "ipython",
    "version": 3
   },
   "file_extension": ".py",
   "mimetype": "text/x-python",
   "name": "python",
   "nbconvert_exporter": "python",
   "pygments_lexer": "ipython3",
   "version": "3.10.9"
  }
 },
 "nbformat": 4,
 "nbformat_minor": 5
}
