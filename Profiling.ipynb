{
 "cells": [
  {
   "cell_type": "code",
   "execution_count": 1,
   "id": "cfbecc34",
   "metadata": {},
   "outputs": [],
   "source": [
    "from sklearn.datasets import load_svmlight_file\n",
    "from scipy.sparse import csc_matrix\n",
    "import numpy as np\n",
    "from Algorithm import CoordinateDescent"
   ]
  },
  {
   "cell_type": "code",
   "execution_count": 2,
   "id": "0975c0b4",
   "metadata": {},
   "outputs": [
    {
     "name": "stdout",
     "output_type": "stream",
     "text": [
      "2023-06-16T20:31:12.909738 0 20242.0\n",
      "CPU times: user 3min 16s, sys: 7min 22s, total: 10min 39s\n",
      "Wall time: 1min 3s\n"
     ]
    }
   ],
   "source": [
    "%%time \n",
    "X_train, y_train = load_svmlight_file(\"data/rcv1_train.binary\")\n",
    "X_train = csc_matrix(X_train)\n",
    "\n",
    "cd = CoordinateDescent(C=1., eps=1e-3, max_iter=1)\n",
    "\n",
    "w = cd.fit_process(X_train, y_train)"
   ]
  },
  {
   "cell_type": "code",
   "execution_count": 4,
   "id": "b48fbedf",
   "metadata": {},
   "outputs": [],
   "source": [
    "%load_ext snakeviz"
   ]
  },
  {
   "cell_type": "code",
   "execution_count": 5,
   "id": "ca557100",
   "metadata": {},
   "outputs": [
    {
     "name": "stdout",
     "output_type": "stream",
     "text": [
      "2023-06-16T20:32:25.929445 0 20242.0\n",
      " \n",
      "*** Profile stats marshalled to file '/tmp/tmp4k_ym1nz'.\n",
      "Embedding SnakeViz in this document...\n",
      "<function display at 0x7f4c616d2680>\n"
     ]
    },
    {
     "data": {
      "text/html": [
       "\n",
       "<iframe id='snakeviz-59c1f1f0-0c74-11ee-9f37-00155d3bdf73' frameborder=0 seamless width='100%' height='1000'></iframe>\n",
       "<script>document.getElementById(\"snakeviz-59c1f1f0-0c74-11ee-9f37-00155d3bdf73\").setAttribute(\"src\", \"http://\" + document.location.hostname + \":8080/snakeviz/%2Ftmp%2Ftmp4k_ym1nz\")</script>\n"
      ],
      "text/plain": [
       "<IPython.core.display.HTML object>"
      ]
     },
     "metadata": {},
     "output_type": "display_data"
    }
   ],
   "source": [
    "%%snakeviz\n",
    "X_train, y_train = load_svmlight_file(\"data/rcv1_train.binary\")\n",
    "X_train = csc_matrix(X_train)\n",
    "\n",
    "cd = CoordinateDescent(C=1., eps=1e-3, max_iter=1)\n",
    "\n",
    "w = cd.fit_process(X_train, y_train)"
   ]
  },
  {
   "cell_type": "code",
   "execution_count": 2,
   "id": "e87a64cf",
   "metadata": {},
   "outputs": [],
   "source": [
    "from line_profiler import LineProfiler"
   ]
  },
  {
   "cell_type": "code",
   "execution_count": 18,
   "id": "396f311e",
   "metadata": {},
   "outputs": [
    {
     "data": {
      "text/plain": [
       "scipy.sparse._coo.coo_matrix"
      ]
     },
     "execution_count": 18,
     "metadata": {},
     "output_type": "execute_result"
    }
   ],
   "source": [
    "type(X_train.multiply(y_train[None].T)\n",
    "    )"
   ]
  },
  {
   "cell_type": "code",
   "execution_count": 9,
   "id": "afe3210b",
   "metadata": {},
   "outputs": [
    {
     "data": {
      "text/plain": [
       "array([ 1.,  1.,  1., ..., -1.,  1., -1.])"
      ]
     },
     "execution_count": 9,
     "metadata": {},
     "output_type": "execute_result"
    }
   ],
   "source": [
    "y_train"
   ]
  },
  {
   "cell_type": "code",
   "execution_count": 15,
   "id": "2604cd8a",
   "metadata": {},
   "outputs": [
    {
     "data": {
      "text/plain": [
       "<20242x1 sparse matrix of type '<class 'numpy.float64'>'\n",
       "\twith 5 stored elements in COOrdinate format>"
      ]
     },
     "execution_count": 15,
     "metadata": {},
     "output_type": "execute_result"
    }
   ],
   "source": [
    "X_train[:, 1].multiply(y_train[None].T)"
   ]
  },
  {
   "cell_type": "code",
   "execution_count": 12,
   "id": "51f77c9f",
   "metadata": {},
   "outputs": [
    {
     "data": {
      "text/plain": [
       "(20242, 47236)"
      ]
     },
     "execution_count": 12,
     "metadata": {},
     "output_type": "execute_result"
    }
   ],
   "source": [
    "X_train.shape"
   ]
  },
  {
   "cell_type": "code",
   "execution_count": 17,
   "id": "883f682e",
   "metadata": {},
   "outputs": [
    {
     "data": {
      "text/plain": [
       "<20242x47236 sparse matrix of type '<class 'numpy.float64'>'\n",
       "\twith 1498952 stored elements in Compressed Sparse Column format>"
      ]
     },
     "execution_count": 17,
     "metadata": {},
     "output_type": "execute_result"
    }
   ],
   "source": [
    "X_train.multiply(X_train)"
   ]
  },
  {
   "cell_type": "code",
   "execution_count": 52,
   "id": "a326e77b",
   "metadata": {},
   "outputs": [],
   "source": [
    "idx = np.random.randint(2, size=X_train.shape[0]) == 1\n",
    "original = np.zeros(X_train.shape[1])\n",
    "speed1 = np.zeros(X_train.shape[1])\n",
    "speed2 = np.zeros(X_train.shape[1])"
   ]
  },
  {
   "cell_type": "code",
   "execution_count": 53,
   "id": "ba7be1bf",
   "metadata": {},
   "outputs": [
    {
     "name": "stdout",
     "output_type": "stream",
     "text": [
      "CPU times: user 11.1 s, sys: 0 ns, total: 11.1 s\n",
      "Wall time: 11.1 s\n"
     ]
    }
   ],
   "source": [
    "%%time\n",
    "for i in range(X_train.shape[1]):\n",
    "    a = np.sum(X_train[idx, i])\n",
    "    original[i] = a"
   ]
  },
  {
   "cell_type": "code",
   "execution_count": 54,
   "id": "bfea89b6",
   "metadata": {},
   "outputs": [
    {
     "name": "stdout",
     "output_type": "stream",
     "text": [
      "CPU times: user 2.52 s, sys: 55.1 ms, total: 2.57 s\n",
      "Wall time: 2.56 s\n"
     ]
    }
   ],
   "source": [
    "%%time\n",
    "for i in range(X_train.shape[1]):\n",
    "    total = 0\n",
    "    col_slice = X_train[:, i]\n",
    "    for data, el in zip(col_slice.data, col_slice.indices):\n",
    "        if idx[el]:\n",
    "            total += data\n",
    "    speed1[i] = total"
   ]
  },
  {
   "cell_type": "code",
   "execution_count": 55,
   "id": "80670f38",
   "metadata": {},
   "outputs": [
    {
     "name": "stdout",
     "output_type": "stream",
     "text": [
      "CPU times: user 324 ms, sys: 0 ns, total: 324 ms\n",
      "Wall time: 324 ms\n"
     ]
    }
   ],
   "source": [
    "%%time\n",
    "for i in range(X_train.shape[1]):\n",
    "    total = 0\n",
    "    start = X_train.indptr[i]\n",
    "    end = X_train.indptr[i+1]\n",
    "    col_sliced = X_train.data[start:end]\n",
    "    col_slicei = X_train.indices[start:end]\n",
    "    for data, el in zip(col_sliced, col_slicei):\n",
    "        if idx[el]:\n",
    "            total += data\n",
    "    speed2[i] = total"
   ]
  },
  {
   "cell_type": "code",
   "execution_count": 57,
   "id": "fbf0177e",
   "metadata": {},
   "outputs": [
    {
     "data": {
      "text/plain": [
       "(True, True)"
      ]
     },
     "execution_count": 57,
     "metadata": {},
     "output_type": "execute_result"
    }
   ],
   "source": [
    "np.allclose(original, speed1), np.allclose(original, speed2)"
   ]
  },
  {
   "cell_type": "code",
   "execution_count": 49,
   "id": "c8cfcc6e",
   "metadata": {},
   "outputs": [
    {
     "name": "stdout",
     "output_type": "stream",
     "text": [
      " \n",
      "*** Profile stats marshalled to file '/tmp/tmp5dcmzgd3'.\n",
      "Embedding SnakeViz in this document...\n",
      "<function display at 0x7f4c616d2680>\n"
     ]
    },
    {
     "data": {
      "text/html": [
       "\n",
       "<iframe id='snakeviz-9eab11f2-0c8d-11ee-9f37-00155d3bdf73' frameborder=0 seamless width='100%' height='1000'></iframe>\n",
       "<script>document.getElementById(\"snakeviz-9eab11f2-0c8d-11ee-9f37-00155d3bdf73\").setAttribute(\"src\", \"http://\" + document.location.hostname + \":8080/snakeviz/%2Ftmp%2Ftmp5dcmzgd3\")</script>\n"
      ],
      "text/plain": [
       "<IPython.core.display.HTML object>"
      ]
     },
     "metadata": {},
     "output_type": "display_data"
    }
   ],
   "source": [
    "%%snakeviz\n",
    "for i in range(X_train.shape[1]):\n",
    "    total = 0\n",
    "    col_slice = X_train[:, i]\n",
    "    for data, el in zip(col_slice.data, col_slice.indices):\n",
    "        if idx[el]:\n",
    "            total += data"
   ]
  },
  {
   "cell_type": "code",
   "execution_count": 48,
   "id": "b8713c54",
   "metadata": {},
   "outputs": [
    {
     "name": "stdout",
     "output_type": "stream",
     "text": [
      " \n",
      "*** Profile stats marshalled to file '/tmp/tmpc519xlfh'.\n",
      "Embedding SnakeViz in this document...\n",
      "<function display at 0x7f4c616d2680>\n"
     ]
    },
    {
     "data": {
      "text/html": [
       "\n",
       "<iframe id='snakeviz-65fe4bbc-0c8d-11ee-9f37-00155d3bdf73' frameborder=0 seamless width='100%' height='1000'></iframe>\n",
       "<script>document.getElementById(\"snakeviz-65fe4bbc-0c8d-11ee-9f37-00155d3bdf73\").setAttribute(\"src\", \"http://\" + document.location.hostname + \":8080/snakeviz/%2Ftmp%2Ftmpc519xlfh\")</script>\n"
      ],
      "text/plain": [
       "<IPython.core.display.HTML object>"
      ]
     },
     "metadata": {},
     "output_type": "display_data"
    }
   ],
   "source": [
    "%%snakeviz\n",
    "for i in range(X_train.shape[1]):\n",
    "    total = 0\n",
    "    start = X_train.indptr[i]\n",
    "    end = X_train.indptr[i+1]\n",
    "    col_sliced = X_train.data[start:end]\n",
    "    col_slicei = X_train.indices[start:end]\n",
    "    for data, el in zip(col_sliced, col_slicei):\n",
    "        if idx[el]:\n",
    "            total += data"
   ]
  },
  {
   "cell_type": "code",
   "execution_count": null,
   "id": "37e0a7a5",
   "metadata": {},
   "outputs": [],
   "source": []
  }
 ],
 "metadata": {
  "kernelspec": {
   "display_name": "Python 3 (ipykernel)",
   "language": "python",
   "name": "python3"
  },
  "language_info": {
   "codemirror_mode": {
    "name": "ipython",
    "version": 3
   },
   "file_extension": ".py",
   "mimetype": "text/x-python",
   "name": "python",
   "nbconvert_exporter": "python",
   "pygments_lexer": "ipython3",
   "version": "3.10.10"
  }
 },
 "nbformat": 4,
 "nbformat_minor": 5
}
