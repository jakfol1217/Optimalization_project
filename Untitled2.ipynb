{
 "cells": [
  {
   "cell_type": "code",
   "execution_count": 1,
   "id": "cfbecc34",
   "metadata": {},
   "outputs": [],
   "source": [
    "from sklearn.datasets import load_svmlight_file\n",
    "from scipy.sparse import csc_matrix\n",
    "import numpy as np\n",
    "from Algorithm import CoordinateDescent"
   ]
  },
  {
   "cell_type": "code",
   "execution_count": 2,
   "id": "8b80ec7e",
   "metadata": {},
   "outputs": [
    {
     "name": "stdout",
     "output_type": "stream",
     "text": [
      "2023-06-16T20:31:12.909738 0 20242.0\n",
      "CPU times: user 3min 16s, sys: 7min 22s, total: 10min 39s\n",
      "Wall time: 1min 3s\n"
     ]
    }
   ],
   "source": [
    "%%time \n",
    "X_train, y_train = load_svmlight_file(\"data/rcv1_train.binary\")\n",
    "X_train = csc_matrix(X_train)\n",
    "\n",
    "cd = CoordinateDescent(C=1., eps=1e-3, max_iter=1)\n",
    "\n",
    "w = cd.fit_process(X_train, y_train)"
   ]
  },
  {
   "cell_type": "code",
   "execution_count": 4,
   "id": "7a579433",
   "metadata": {},
   "outputs": [],
   "source": [
    "%load_ext snakeviz"
   ]
  },
  {
   "cell_type": "code",
   "execution_count": null,
   "id": "ca557100",
   "metadata": {},
   "outputs": [
    {
     "name": "stdout",
     "output_type": "stream",
     "text": [
      "2023-06-16T20:32:25.929445 0 20242.0\n",
      " \n",
      "*** Profile stats marshalled to file '/tmp/tmp4k_ym1nz'.\n",
      "Embedding SnakeViz in this document...\n",
      "<function display at 0x7f4c616d2680>\n"
     ]
    },
    {
     "data": {
      "text/html": [
       "\n",
       "<iframe id='snakeviz-59c1f1f0-0c74-11ee-9f37-00155d3bdf73' frameborder=0 seamless width='100%' height='1000'></iframe>\n",
       "<script>document.getElementById(\"snakeviz-59c1f1f0-0c74-11ee-9f37-00155d3bdf73\").setAttribute(\"src\", \"http://\" + document.location.hostname + \":8080/snakeviz/%2Ftmp%2Ftmp4k_ym1nz\")</script>\n"
      ],
      "text/plain": [
       "<IPython.core.display.HTML object>"
      ]
     },
     "metadata": {},
     "output_type": "display_data"
    }
   ],
   "source": [
    "%%snakeviz\n",
    "X_train, y_train = load_svmlight_file(\"data/rcv1_train.binary\")\n",
    "X_train = csc_matrix(X_train)\n",
    "\n",
    "cd = CoordinateDescent(C=1., eps=1e-3, max_iter=1)\n",
    "\n",
    "w = cd.fit_process(X_train, y_train)"
   ]
  },
  {
   "cell_type": "code",
   "execution_count": 2,
   "id": "e87a64cf",
   "metadata": {},
   "outputs": [],
   "source": [
    "from line_profiler import LineProfiler"
   ]
  },
  {
   "cell_type": "code",
   "execution_count": 18,
   "id": "396f311e",
   "metadata": {},
   "outputs": [
    {
     "data": {
      "text/plain": [
       "scipy.sparse._coo.coo_matrix"
      ]
     },
     "execution_count": 18,
     "metadata": {},
     "output_type": "execute_result"
    }
   ],
   "source": [
    "type(X_train.multiply(y_train[None].T)\n",
    "    )"
   ]
  },
  {
   "cell_type": "code",
   "execution_count": 9,
   "id": "afe3210b",
   "metadata": {},
   "outputs": [
    {
     "data": {
      "text/plain": [
       "array([ 1.,  1.,  1., ..., -1.,  1., -1.])"
      ]
     },
     "execution_count": 9,
     "metadata": {},
     "output_type": "execute_result"
    }
   ],
   "source": [
    "y_train"
   ]
  },
  {
   "cell_type": "code",
   "execution_count": 15,
   "id": "2604cd8a",
   "metadata": {},
   "outputs": [
    {
     "data": {
      "text/plain": [
       "<20242x1 sparse matrix of type '<class 'numpy.float64'>'\n",
       "\twith 5 stored elements in COOrdinate format>"
      ]
     },
     "execution_count": 15,
     "metadata": {},
     "output_type": "execute_result"
    }
   ],
   "source": [
    "X_train[:, 1].multiply(y_train[None].T)"
   ]
  },
  {
   "cell_type": "code",
   "execution_count": 12,
   "id": "51f77c9f",
   "metadata": {},
   "outputs": [
    {
     "data": {
      "text/plain": [
       "(20242, 47236)"
      ]
     },
     "execution_count": 12,
     "metadata": {},
     "output_type": "execute_result"
    }
   ],
   "source": [
    "X_train.shape"
   ]
  },
  {
   "cell_type": "code",
   "execution_count": 17,
   "id": "883f682e",
   "metadata": {},
   "outputs": [
    {
     "data": {
      "text/plain": [
       "<20242x47236 sparse matrix of type '<class 'numpy.float64'>'\n",
       "\twith 1498952 stored elements in Compressed Sparse Column format>"
      ]
     },
     "execution_count": 17,
     "metadata": {},
     "output_type": "execute_result"
    }
   ],
   "source": [
    "X_train.multiply(X_train)"
   ]
  },
  {
   "cell_type": "code",
   "execution_count": null,
   "id": "ba7be1bf",
   "metadata": {},
   "outputs": [],
   "source": []
  }
 ],
 "metadata": {
  "kernelspec": {
   "display_name": "Python 3 (ipykernel)",
   "language": "python",
   "name": "python3"
  },
  "language_info": {
   "codemirror_mode": {
    "name": "ipython",
    "version": 3
   },
   "file_extension": ".py",
   "mimetype": "text/x-python",
   "name": "python",
   "nbconvert_exporter": "python",
   "pygments_lexer": "ipython3",
   "version": "3.10.10"
  }
 },
 "nbformat": 4,
 "nbformat_minor": 5
}
