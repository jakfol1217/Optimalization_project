{
 "cells": [
  {
   "cell_type": "code",
   "execution_count": 1,
   "id": "4286fba4",
   "metadata": {},
   "outputs": [],
   "source": [
    "from sklearn.datasets import load_svmlight_file\n",
    "from sklearn.model_selection import train_test_split\n",
    "from scipy.sparse import csc_matrix\n",
    "import numpy as np\n",
    "from time import time"
   ]
  },
  {
   "cell_type": "code",
   "execution_count": 2,
   "id": "bea81e14",
   "metadata": {},
   "outputs": [],
   "source": [
    "def get_datasets(name):\n",
    "    if name == \"rcv1\":\n",
    "        X_train, y_train = load_svmlight_file(f\"data/{data_name}_train\")\n",
    "        X_test, y_test = load_svmlight_file(f\"data/{data_name}_test\")\n",
    "        return X_train, X_test, y_train, y_test\n",
    "    else:\n",
    "        X, y = load_svmlight_file(f\"data/{name}.binary\")\n",
    "        return train_test_split(X, y, random_state=123, train_size=0.6)\n",
    "        \n",
    "\n",
    "def accuracy_score_svm(w, X, y):\n",
    "    return np.mean(((w @ X.T > 0) * 2 - 1) == y)\n",
    "\n",
    "def calculate_data(param, X_train, y_train, X_test, y_test):\n",
    "    from sklearn.svm import LinearSVC\n",
    "    m_ref = LinearSVC(C=param, tol=1e-12, fit_intercept=False, max_iter=5000, dual=False)\n",
    "    m_ref.fit(X_train, y_train)\n",
    "    \n",
    "    from Algorithm import CoordinateDescent\n",
    "    cd = CoordinateDescent(C=param, eps=1e-3)\n",
    "    w = cd.fit_process(X_train, y_train)\n",
    "    \n",
    "    dist_hist = [\n",
    "        np.linalg.norm(m_ref.coef_.reshape(-1) - el[0], ord=2) for el in cd.history\n",
    "    ]\n",
    "    \n",
    "    acc_hist = [\n",
    "        accuracy_score_svm(el[0], X_test, y_test) for el in cd.history\n",
    "    ]\n",
    "    \n",
    "    return np.array([el[2] for el in cd.history]) - cd.history[0][2], dist_hist, acc_hist"
   ]
  },
  {
   "cell_type": "code",
   "execution_count": 3,
   "id": "d77fa92d",
   "metadata": {},
   "outputs": [],
   "source": [
    "param_space = [1., 2., 4., 8.]\n",
    "data_space = [\"rcv1\", \"news20\", \"real-sim\"]\n",
    "results = {}"
   ]
  },
  {
   "cell_type": "code",
   "execution_count": null,
   "id": "a9424a34",
   "metadata": {},
   "outputs": [
    {
     "name": "stdout",
     "output_type": "stream",
     "text": [
      "real-sim C = 1\r"
     ]
    }
   ],
   "source": [
    "for data_name in data_space:\n",
    "    X_train, X_test, y_train, y_test = get_datasets(data_name)\n",
    "    results[data_name] = {}\n",
    "    for param in param_space:\n",
    "        if param not in results[data_name]:\n",
    "            print(f\"{data_name} C = {param:.0f}\", end=\"\\r\")\n",
    "            times, dists, accs = calculate_data(param, X_train, y_train, X_test, y_test)\n",
    "            results[data_name][param] = {\n",
    "                \"times\": times,\n",
    "                \"dists\": dists,\n",
    "                \"accs\": accs\n",
    "            }"
   ]
  },
  {
   "cell_type": "code",
   "execution_count": null,
   "id": "3a79314f",
   "metadata": {},
   "outputs": [],
   "source": [
    "import json\n",
    "\n",
    "class NumpyEncoder(json.JSONEncoder):\n",
    "    def default(self, obj):\n",
    "        if isinstance(obj, np.ndarray):\n",
    "            return obj.tolist()\n",
    "        return json.JSONEncoder.default(self, obj)\n",
    "\n",
    "\n",
    "with open(\"c_influence.json\", \"w\") as f:\n",
    "    json.dump(results, f, cls=NumpyEncoder)"
   ]
  },
  {
   "cell_type": "code",
   "execution_count": null,
   "id": "0fe5ae8b",
   "metadata": {},
   "outputs": [],
   "source": [
    "import matplotlib.pyplot as plt\n",
    "fig, axs = plt.subplots(len(data_space))\n",
    "fig.suptitle(\"Comparison of different parameter values on selected datasets\")\n",
    "for ax, data_name in zip(axs, data_space):\n",
    "    for param in param_space:\n",
    "        res = results[data_name][param]\n",
    "        ax.plot(res[\"times\"], res[\"dists\"])\n",
    "        ax.set_title(f\"{data_name}\")\n",
    "    ax.legend([f\"C = {param:.0f}\" for param in param_space])\n",
    "    ax.set_yscale(\"log\")\n",
    "    ax.set_ylabel(\"||delta w||\")\n",
    "    ax.set_xlabel(\"Time (s)\")\n",
    "fig.set_size_inches(6, 12)\n",
    "plt.tight_layout()"
   ]
  },
  {
   "cell_type": "code",
   "execution_count": null,
   "id": "04a5d060",
   "metadata": {},
   "outputs": [],
   "source": []
  }
 ],
 "metadata": {
  "kernelspec": {
   "display_name": "Python 3 (ipykernel)",
   "language": "python",
   "name": "python3"
  },
  "language_info": {
   "codemirror_mode": {
    "name": "ipython",
    "version": 3
   },
   "file_extension": ".py",
   "mimetype": "text/x-python",
   "name": "python",
   "nbconvert_exporter": "python",
   "pygments_lexer": "ipython3",
   "version": "3.11.3"
  }
 },
 "nbformat": 4,
 "nbformat_minor": 5
}
